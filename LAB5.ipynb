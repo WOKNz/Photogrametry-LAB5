{
 "cells": [
  {
   "cell_type": "markdown",
   "metadata": {
    "collapsed": true,
    "pycharm": {
     "name": "#%% md\n"
    }
   },
   "source": [
    "Import"
   ]
  },
  {
   "cell_type": "code",
   "execution_count": 1,
   "outputs": [],
   "source": [
    "from Reader import Reader as rd\n",
    "import numpy as np\n",
    "import pandas as pd\n",
    "from SingleImage import SingleImage as sg\n",
    "import Camera"
   ],
   "metadata": {
    "collapsed": false,
    "pycharm": {
     "name": "#%%\n",
     "is_executing": false
    }
   }
  },
  {
   "cell_type": "markdown",
   "source": [
    "Inputting files and solving with all fmarks"
   ],
   "metadata": {
    "collapsed": false
   }
  },
  {
   "cell_type": "code",
   "execution_count": 2,
   "outputs": [
    {
     "name": "stdout",
     "text": [
      "       value(-)\n",
      "a0  7923.100865\n",
      "b0  7409.042691\n",
      "a1    62.512580\n",
      "a2    -0.037890\n",
      "b1     0.041538\n",
      "b2    62.515620 \n",
      "\n",
      "    vx(pix)   vy(pix)\n",
      "0  0.098925  0.189206\n",
      "1 -0.009451  0.523313\n",
      "2  0.523706 -0.065488\n",
      "3 -0.249810  0.010083\n",
      "4  0.265553 -0.401052\n",
      "5  0.057375 -0.484770\n",
      "6  0.090987  0.325732\n",
      "7 -0.777285 -0.097025 \n",
      "\n",
      "Sigma Post ^2 =  0.9291064529416714\n"
     ],
     "output_type": "stream"
    }
   ],
   "source": [
    "camraw = rd.ReadCamFile('rc30.cam')\n",
    "tagraw3574 = rd.Readtxtfile('fiducialsImg3574.txt')\n",
    "tagraw3575 = rd.Readtxtfile('fiducialsImg3575.txt')\n",
    "            \n",
    "    \n",
    "camera1 = Camera.Camera(camraw['f'], np.array([camraw['xp'],camraw['yp']]),\\\n",
    "                        np.array([camraw['k0'],camraw['k1'],camraw['k2']]),\\\n",
    "                        np.array([camraw['p1'],camraw['p2'],camraw['p3']]),\\\n",
    "                        camraw['fiducials'])\n",
    "\n",
    "img1 = sg(camera1)\n",
    "#inner_parameters, accuracies, residuals = img1.ComputeInnerOrientation(img_fmarks)\n",
    "inner1 = img1.ComputeInnerOrientation(tagraw3574)\n",
    "sigpost_2 = np.dot(inner1[1].T, inner1[1])/2\n",
    "affinparams = pd.DataFrame(inner1[0]).rename(index={0:'a0',1:'b0',2:'a1',3:'a2',4:'b1',5:'b2'})\n",
    "affinparams.columns = ['value(-)']\n",
    "print(affinparams,'\\n')\n",
    "affinparams_v = pd.DataFrame(np.hstack((inner1[1][0::2],inner1[1][1::2]))\\\n",
    "                             ).rename(columns={0:'vx(pix)', 1:'vy(pix)'})\n",
    "print(affinparams_v,'\\n')\n",
    "print('Sigma Post ^2 = ',sigpost_2[0][0])\n"
   ],
   "metadata": {
    "collapsed": false,
    "pycharm": {
     "name": "#%%\n",
     "is_executing": false
    }
   }
  },
  {
   "cell_type": "markdown",
   "source": [
    "Inputting files and solving without blunder fmarks"
   ],
   "metadata": {
    "collapsed": false,
    "pycharm": {
     "name": "#%% md\n"
    }
   }
  },
  {
   "cell_type": "code",
   "execution_count": 3,
   "outputs": [
    {
     "name": "stdout",
     "text": [
      "       value(-)\n",
      "a0  7922.961246\n",
      "b0  7409.025263\n",
      "a1    62.514366\n",
      "a2    -0.037890\n",
      "b1     0.041761\n",
      "b2    62.515620 \n",
      "\n",
      "    vx(pix)   vy(pix)\n",
      "0 -0.230051  0.148142\n",
      "1  0.040278  0.529520\n",
      "2  0.194738 -0.106551\n",
      "3 -0.200075  0.016291\n",
      "4  0.125926 -0.418481\n",
      "5  0.117818 -0.477225\n",
      "6 -0.048634  0.308304 \n",
      "\n",
      "Sigma Post ^2 =  0.4882398107668194 \n",
      "\n",
      "                 RMS\n",
      "a0(pix/mm)  0.268313\n",
      "b0(pix/mm)  0.268313\n",
      "a1          0.002961\n",
      "a2          0.002640\n",
      "b1          0.002961\n",
      "b2          0.002640\n",
      "\n",
      "              Values\n",
      "Dx      7922.961246\n",
      "Dy      7409.025263\n",
      "Thetha     0.000668\n",
      "Gamma      0.000062\n",
      "Sx        62.514378\n",
      "Sy      -611.941856\n"
     ],
     "output_type": "stream"
    }
   ],
   "source": [
    "camraw = rd.ReadCamFile('rc30.cam')\n",
    "tagraw3574 = rd.Readtxtfile('fiducialsImg3574.txt')\n",
    "tagraw3575 = rd.Readtxtfile('fiducialsImg3575.txt')\n",
    "            \n",
    "    \n",
    "camera1 = Camera.Camera(camraw['f'], np.array([camraw['xp'],camraw['yp']]),\\\n",
    "                        np.array([camraw['k0'],camraw['k1'],camraw['k2']]),\\\n",
    "                        np.array([camraw['p1'],camraw['p2'],camraw['p3']]),\\\n",
    "                        camraw['fiducials'][0:7,:])\n",
    "\n",
    "img1 = sg(camera1)\n",
    "#inner_parameters, accuracies, residuals = img1.ComputeInnerOrientation(img_fmarks)\n",
    "inner1 = img1.ComputeInnerOrientation(tagraw3574[0:7,:])\n",
    "sigpost_2 = np.dot(inner1[1].T, inner1[1])/2\n",
    "affinparams = pd.DataFrame(inner1[0]).rename(index={0:'a0',1:'b0',2:'a1',3:'a2',4:'b1',5:'b2'})\n",
    "affinparams.columns = ['value(-)']\n",
    "print(affinparams,'\\n')\n",
    "affinparams_v = pd.DataFrame(np.hstack((inner1[1][0::2],inner1[1][1::2]))\\\n",
    "                             ).rename(columns={0:'vx(pix)', 1:'vy(pix)'})\n",
    "print(affinparams_v,'\\n')\n",
    "print('Sigma Post ^2 = ',sigpost_2[0][0], '\\n')\n",
    "rms_x = pd.DataFrame(np.sqrt(np.diag((inner1[2]*sigpost_2[0][0]))))\n",
    "rms_x = rms_x.rename(index={0:'a0(pix/mm)',1:'b0(pix/mm)',2:'a1',3:'a2',4:'b1',5:'b2'}, columns={0:'RMS'})\n",
    "print(rms_x)\n",
    "\n",
    "# affinparams.iloc[0,0]\n",
    "# thetha = np.arctan(affinparams.iloc[4,0]/affinparams.iloc[5,0])\n",
    "# print('thetha (rad)= ', thetha)\n",
    "# tanGamma = (affinparams.iloc[2,0]*np.sin(thetha)+affinparams.iloc[3,0]*np.cos(thetha)) / \\\n",
    "#            (affinparams.iloc[4,0]*np.sin(thetha)+affinparams.iloc[5,0]*np.cos(thetha))\n",
    "# print('tanGamma (-)= ', tanGamma)\n",
    "# \n",
    "# sx = affinparams.iloc[2,0]*np.cos(thetha)-affinparams.iloc[3,0]*np.sin(thetha)\n",
    "# sy = affinparams.iloc[2,0]*np.sin(thetha)+affinparams.iloc[3,0]*np.cos(thetha)/\\\n",
    "#      np.sin(np.arctan(tanGamma))\n",
    "# print('Sx (-)= ', sx)\n",
    "# print('Sy (-)= ', sy)\n",
    "\n",
    "GeoParams = pd.DataFrame.from_dict(img1.ComputeGeometricParameters(inner1[0].flatten()), orient='index')\n",
    "GeoParams = GeoParams.rename(columns={0:'Values'})\n",
    "print('\\n', GeoParams)"
   ],
   "metadata": {
    "collapsed": false,
    "pycharm": {
     "name": "#%%\n",
     "is_executing": false
    }
   }
  },
  {
   "cell_type": "code",
   "execution_count": 4,
   "outputs": [
    {
     "name": "stdout",
     "text": [
      "      value(-)\n",
      "a0 -126.815885\n",
      "b0 -118.430801\n",
      "a1    0.015997\n",
      "a2    0.000010\n",
      "b1   -0.000011\n",
      "b2    0.015996 \n",
      "\n",
      "    vx(pix)   vy(pix)\n",
      "0 -0.001584 -0.003026\n",
      "1  0.000146 -0.008371\n",
      "2 -0.008377  0.001053\n",
      "3  0.003996 -0.000164\n",
      "4 -0.004244  0.006418\n",
      "5 -0.000914  0.007755\n",
      "6 -0.001459 -0.005209\n",
      "7  0.012435  0.001544 \n",
      "\n",
      "Sigma Post ^2 =  0.00023774594632146903\n"
     ],
     "output_type": "stream"
    }
   ],
   "source": [
    "camera1_inv = Camera.Camera(camraw['f'], np.array([camraw['xp'],camraw['yp']]),\\\n",
    "                        np.array([camraw['k0'],camraw['k1'],camraw['k2']]),\\\n",
    "                        np.array([camraw['p1'],camraw['p2'],camraw['p3']]),\\\n",
    "                        tagraw3574)\n",
    "\n",
    "img1_inv = sg(camera1_inv)\n",
    "#inner_parameters, accuracies, residuals = img1.ComputeInnerOrientation(img_fmarks)\n",
    "inner1 = img1_inv.ComputeInnerOrientation(camraw['fiducials'])\n",
    "sigpost_2 = np.dot(inner1[1].T, inner1[1])/2\n",
    "affinparams = pd.DataFrame(inner1[0]).rename(index={0:'a0',1:'b0',2:'a1',3:'a2',4:'b1',5:'b2'})\n",
    "affinparams.columns = ['value(-)']\n",
    "print(affinparams,'\\n')\n",
    "affinparams_v = pd.DataFrame(np.hstack((inner1[1][0::2],inner1[1][1::2]))\\\n",
    "                             ).rename(columns={0:'vx(pix)', 1:'vy(pix)'})\n",
    "print(affinparams_v,'\\n')\n",
    "print('Sigma Post ^2 = ',sigpost_2[0][0])"
   ],
   "metadata": {
    "collapsed": false,
    "pycharm": {
     "name": "#%%\n",
     "is_executing": false
    }
   }
  },
  {
   "cell_type": "code",
   "execution_count": 5,
   "outputs": [
    {
     "name": "stdout",
     "text": [
      "[[ 1292.17194895 14031.3791418 ]\n",
      " [14545.28027777 14039.98252042]\n",
      " [ 1300.57973831   778.00544883]\n",
      " [14553.56292472   786.79629079]\n",
      " [ 7918.40492645 14410.89951937]\n",
      " [14924.25781757  7413.51477523]\n",
      " [ 7927.14236623   407.33830356]\n",
      " [  921.35202738  7404.66057384]]\n"
     ],
     "output_type": "stream"
    }
   ],
   "source": [
    "imgtest = sg(camera1)\n",
    "#inner_parameters, accuracies, residuals = img1.ComputeInnerOrientation(img_fmarks)\n",
    "innertest = imgtest.ComputeInnerOrientation(tagraw3574[0:7,:])\n",
    "# print(innertest[0].flatten())\n",
    "# print(camraw['fiducials'])\n",
    "picpoints = imgtest.CameraToImage(camraw['fiducials'], innertest[0].flatten())\n",
    "print(picpoints)"
   ],
   "metadata": {
    "collapsed": false,
    "pycharm": {
     "name": "#%%\n",
     "is_executing": false
    }
   }
  }
 ],
 "metadata": {
  "kernelspec": {
   "display_name": "Python 3",
   "language": "python",
   "name": "python3"
  },
  "language_info": {
   "codemirror_mode": {
    "name": "ipython",
    "version": 2
   },
   "file_extension": ".py",
   "mimetype": "text/x-python",
   "name": "python",
   "nbconvert_exporter": "python",
   "pygments_lexer": "ipython2",
   "version": "2.7.6"
  },
  "pycharm": {
   "stem_cell": {
    "cell_type": "raw",
    "source": [],
    "metadata": {
     "collapsed": false
    }
   }
  }
 },
 "nbformat": 4,
 "nbformat_minor": 0
}